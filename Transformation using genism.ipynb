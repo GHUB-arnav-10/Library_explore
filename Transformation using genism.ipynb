{
 "cells": [
  {
   "cell_type": "code",
   "execution_count": 1,
   "id": "7e135d81",
   "metadata": {},
   "outputs": [],
   "source": [
    "import logging\n",
    "logging.basicConfig(format='%(asctime)s : %(levelname)s : %(message)s', level=logging.INFO)"
   ]
  },
  {
   "cell_type": "code",
   "execution_count": 2,
   "id": "681b948a",
   "metadata": {},
   "outputs": [
    {
     "name": "stderr",
     "output_type": "stream",
     "text": [
      "2023-12-09 21:18:24,455 : INFO : adding document #0 to Dictionary<0 unique tokens: []>\n",
      "2023-12-09 21:18:24,457 : INFO : built Dictionary<12 unique tokens: ['computer', 'human', 'interface', 'response', 'survey']...> from 9 documents (total 29 corpus positions)\n",
      "2023-12-09 21:18:24,457 : INFO : Dictionary lifecycle event {'msg': \"built Dictionary<12 unique tokens: ['computer', 'human', 'interface', 'response', 'survey']...> from 9 documents (total 29 corpus positions)\", 'datetime': '2023-12-09T21:18:24.457336', 'gensim': '4.3.2', 'python': '3.9.7 (default, Sep 16 2021, 16:59:28) [MSC v.1916 64 bit (AMD64)]', 'platform': 'Windows-10-10.0.22631-SP0', 'event': 'created'}\n"
     ]
    }
   ],
   "source": [
    "from collections import defaultdict\n",
    "from gensim import corpora\n",
    "\n",
    "documents = [\n",
    "    \"Human machine interface for lab abc computer applications\",\n",
    "    \"A survey of user opinion of computer system response time\",\n",
    "    \"The EPS user interface management system\",\n",
    "    \"System and human system engineering testing of EPS\",\n",
    "    \"Relation of user perceived response time to error measurement\",\n",
    "    \"The generation of random binary unordered trees\",\n",
    "    \"The intersection graph of paths in trees\",\n",
    "    \"Graph minors IV Widths of trees and well quasi ordering\",\n",
    "    \"Graph minors A survey\",\n",
    "]\n",
    "\n",
    "# remove common words and tokenize\n",
    "stoplist = set('for a of the and to in'.split())\n",
    "texts = [\n",
    "    [word for word in document.lower().split() if word not in stoplist]\n",
    "    for document in documents\n",
    "]\n",
    "\n",
    "# remove words that appear only once\n",
    "frequency = defaultdict(int)\n",
    "for text in texts:\n",
    "    for token in text:\n",
    "        frequency[token] += 1\n",
    "\n",
    "texts = [\n",
    "    [token for token in text if frequency[token] > 1]\n",
    "    for text in texts\n",
    "]\n",
    "\n",
    "dictionary = corpora.Dictionary(texts)\n",
    "corpus = [dictionary.doc2bow(text) for text in texts]"
   ]
  },
  {
   "cell_type": "markdown",
   "id": "b510632d",
   "metadata": {},
   "source": [
    "Creating a transformation:"
   ]
  },
  {
   "cell_type": "code",
   "execution_count": 3,
   "id": "3aab73d5",
   "metadata": {},
   "outputs": [
    {
     "name": "stderr",
     "output_type": "stream",
     "text": [
      "2023-12-09 21:23:32,915 : INFO : collecting document frequencies\n",
      "2023-12-09 21:23:32,915 : INFO : PROGRESS: processing document #0\n",
      "2023-12-09 21:23:32,916 : INFO : TfidfModel lifecycle event {'msg': 'calculated IDF weights for 9 documents and 12 features (28 matrix non-zeros)', 'datetime': '2023-12-09T21:23:32.916044', 'gensim': '4.3.2', 'python': '3.9.7 (default, Sep 16 2021, 16:59:28) [MSC v.1916 64 bit (AMD64)]', 'platform': 'Windows-10-10.0.22631-SP0', 'event': 'initialize'}\n"
     ]
    }
   ],
   "source": [
    "from gensim import models\n",
    "\n",
    "tfidf = models.TfidfModel(corpus)  # step 1 -- initialize a model"
   ]
  },
  {
   "cell_type": "markdown",
   "id": "064685fa",
   "metadata": {},
   "source": [
    "tfidf is treated as a read-only object that can be used to convert any vector from the old representation (bag-of-words integer counts) to the new representation (TfIdf real-valued weights):"
   ]
  },
  {
   "cell_type": "code",
   "execution_count": 4,
   "id": "b012216e",
   "metadata": {},
   "outputs": [
    {
     "name": "stdout",
     "output_type": "stream",
     "text": [
      "[(0, 0.7071067811865476), (1, 0.7071067811865476)]\n"
     ]
    }
   ],
   "source": [
    "doc_bow = [(0, 1), (1, 1)]\n",
    "print(tfidf[doc_bow])  # step 2 -- use the model to transform vectors"
   ]
  },
  {
   "cell_type": "code",
   "execution_count": 5,
   "id": "c5c63862",
   "metadata": {},
   "outputs": [
    {
     "name": "stdout",
     "output_type": "stream",
     "text": [
      "[(0, 0.5773502691896257), (1, 0.5773502691896257), (2, 0.5773502691896257)]\n",
      "[(0, 0.44424552527467476), (3, 0.44424552527467476), (4, 0.44424552527467476), (5, 0.3244870206138555), (6, 0.44424552527467476), (7, 0.3244870206138555)]\n",
      "[(2, 0.5710059809418182), (5, 0.4170757362022777), (7, 0.4170757362022777), (8, 0.5710059809418182)]\n",
      "[(1, 0.49182558987264147), (5, 0.7184811607083769), (8, 0.49182558987264147)]\n",
      "[(3, 0.6282580468670046), (6, 0.6282580468670046), (7, 0.45889394536615247)]\n",
      "[(9, 1.0)]\n",
      "[(9, 0.7071067811865475), (10, 0.7071067811865475)]\n",
      "[(9, 0.5080429008916749), (10, 0.5080429008916749), (11, 0.695546419520037)]\n",
      "[(4, 0.6282580468670046), (10, 0.45889394536615247), (11, 0.6282580468670046)]\n"
     ]
    }
   ],
   "source": [
    "# to apply a transformation to a whole corpus:\n",
    "corpus_tfidf = tfidf[corpus]\n",
    "for doc in corpus_tfidf:\n",
    "    print(doc)"
   ]
  },
  {
   "cell_type": "code",
   "execution_count": 7,
   "id": "743cfcf6",
   "metadata": {},
   "outputs": [
    {
     "name": "stderr",
     "output_type": "stream",
     "text": [
      "2023-12-09 21:32:44,795 : INFO : using serial LSI version on this node\n",
      "2023-12-09 21:32:44,796 : INFO : updating model with new documents\n",
      "2023-12-09 21:32:44,796 : INFO : preparing a new chunk of documents\n",
      "2023-12-09 21:32:44,797 : INFO : using 100 extra samples and 2 power iterations\n",
      "2023-12-09 21:32:44,797 : INFO : 1st phase: constructing (12, 102) action matrix\n",
      "2023-12-09 21:32:44,798 : INFO : orthonormalizing (12, 102) action matrix\n",
      "2023-12-09 21:32:44,799 : INFO : 2nd phase: running dense svd on (12, 9) matrix\n",
      "2023-12-09 21:32:44,800 : INFO : computing the final decomposition\n",
      "2023-12-09 21:32:44,800 : INFO : keeping 2 factors (discarding 47.565% of energy spectrum)\n",
      "2023-12-09 21:32:44,800 : INFO : processed documents up to #9\n",
      "2023-12-09 21:32:44,801 : INFO : topic #0(1.594): 0.703*\"trees\" + 0.538*\"graph\" + 0.402*\"minors\" + 0.187*\"survey\" + 0.061*\"system\" + 0.060*\"time\" + 0.060*\"response\" + 0.058*\"user\" + 0.049*\"computer\" + 0.035*\"interface\"\n",
      "2023-12-09 21:32:44,802 : INFO : topic #1(1.476): -0.460*\"system\" + -0.373*\"user\" + -0.332*\"eps\" + -0.328*\"interface\" + -0.320*\"response\" + -0.320*\"time\" + -0.293*\"computer\" + -0.280*\"human\" + -0.171*\"survey\" + 0.161*\"trees\"\n",
      "2023-12-09 21:32:44,802 : INFO : LsiModel lifecycle event {'msg': 'trained LsiModel<num_terms=12, num_topics=2, decay=1.0, chunksize=20000> in 0.01s', 'datetime': '2023-12-09T21:32:44.802584', 'gensim': '4.3.2', 'python': '3.9.7 (default, Sep 16 2021, 16:59:28) [MSC v.1916 64 bit (AMD64)]', 'platform': 'Windows-10-10.0.22631-SP0', 'event': 'created'}\n"
     ]
    }
   ],
   "source": [
    "lsi_model = models.LsiModel(corpus_tfidf, id2word=dictionary, num_topics=2)  # initialize an LSI transformation\n",
    "corpus_lsi = lsi_model[corpus_tfidf]  # create a double wrapper over the original corpus: bow->tfidf->fold-in-lsi\n",
    "#Here we transformed our Tf-Idf corpus via Latent Semantic Indexing into a latent 2-D space (2-D because we set num_topics=2)."
   ]
  },
  {
   "cell_type": "code",
   "execution_count": 8,
   "id": "8653f366",
   "metadata": {},
   "outputs": [
    {
     "name": "stderr",
     "output_type": "stream",
     "text": [
      "2023-12-09 21:33:19,196 : INFO : topic #0(1.594): 0.703*\"trees\" + 0.538*\"graph\" + 0.402*\"minors\" + 0.187*\"survey\" + 0.061*\"system\" + 0.060*\"time\" + 0.060*\"response\" + 0.058*\"user\" + 0.049*\"computer\" + 0.035*\"interface\"\n",
      "2023-12-09 21:33:19,197 : INFO : topic #1(1.476): -0.460*\"system\" + -0.373*\"user\" + -0.332*\"eps\" + -0.328*\"interface\" + -0.320*\"response\" + -0.320*\"time\" + -0.293*\"computer\" + -0.280*\"human\" + -0.171*\"survey\" + 0.161*\"trees\"\n"
     ]
    },
    {
     "data": {
      "text/plain": [
       "[(0,\n",
       "  '0.703*\"trees\" + 0.538*\"graph\" + 0.402*\"minors\" + 0.187*\"survey\" + 0.061*\"system\" + 0.060*\"time\" + 0.060*\"response\" + 0.058*\"user\" + 0.049*\"computer\" + 0.035*\"interface\"'),\n",
       " (1,\n",
       "  '-0.460*\"system\" + -0.373*\"user\" + -0.332*\"eps\" + -0.328*\"interface\" + -0.320*\"response\" + -0.320*\"time\" + -0.293*\"computer\" + -0.280*\"human\" + -0.171*\"survey\" + 0.161*\"trees\"')]"
      ]
     },
     "execution_count": 8,
     "metadata": {},
     "output_type": "execute_result"
    }
   ],
   "source": [
    "lsi_model.print_topics(2)"
   ]
  },
  {
   "cell_type": "markdown",
   "id": "64cfea6b",
   "metadata": {},
   "source": [
    "It appears that according to LSI, “trees”, “graph” and “minors” are all related words (and contribute the most to the direction of the first topic), while the second topic practically concerns itself with all the other words. As expected, the first five documents are more strongly related to the second topic while the remaining four documents to the first topic:"
   ]
  },
  {
   "cell_type": "code",
   "execution_count": 9,
   "id": "fc01ffbf",
   "metadata": {},
   "outputs": [
    {
     "name": "stdout",
     "output_type": "stream",
     "text": [
      "[(0, 0.06600783396090153), (1, -0.520070330636186)] Human machine interface for lab abc computer applications\n",
      "[(0, 0.19667592859142388), (1, -0.7609563167700055)] A survey of user opinion of computer system response time\n",
      "[(0, 0.08992639972446197), (1, -0.7241860626752515)] The EPS user interface management system\n",
      "[(0, 0.07585847652177953), (1, -0.6320551586003433)] System and human system engineering testing of EPS\n",
      "[(0, 0.10150299184980091), (1, -0.573730848300296)] Relation of user perceived response time to error measurement\n",
      "[(0, 0.7032108939378313), (1, 0.16115180214025646)] The generation of random binary unordered trees\n",
      "[(0, 0.8774787673119837), (1, 0.1675890686465923)] The intersection graph of paths in trees\n",
      "[(0, 0.9098624686818584), (1, 0.14086553628718823)] Graph minors IV Widths of trees and well quasi ordering\n",
      "[(0, 0.6165825350569285), (1, -0.05392907566389496)] Graph minors A survey\n"
     ]
    }
   ],
   "source": [
    "# both bow->tfidf and tfidf->lsi transformations are actually executed here, on the fly\n",
    "for doc, as_text in zip(corpus_lsi, documents):\n",
    "    print(doc, as_text)"
   ]
  },
  {
   "cell_type": "code",
   "execution_count": 10,
   "id": "98e75613",
   "metadata": {},
   "outputs": [
    {
     "name": "stderr",
     "output_type": "stream",
     "text": [
      "2023-12-09 21:34:36,620 : INFO : Projection lifecycle event {'fname_or_handle': 'C:\\\\Users\\\\Lenovo\\\\AppData\\\\Local\\\\Temp\\\\model-m4wq1v8r.lsi.projection', 'separately': 'None', 'sep_limit': 10485760, 'ignore': frozenset(), 'datetime': '2023-12-09T21:34:36.620238', 'gensim': '4.3.2', 'python': '3.9.7 (default, Sep 16 2021, 16:59:28) [MSC v.1916 64 bit (AMD64)]', 'platform': 'Windows-10-10.0.22631-SP0', 'event': 'saving'}\n",
      "2023-12-09 21:34:36,622 : INFO : saved C:\\Users\\Lenovo\\AppData\\Local\\Temp\\model-m4wq1v8r.lsi.projection\n",
      "2023-12-09 21:34:36,622 : INFO : LsiModel lifecycle event {'fname_or_handle': 'C:\\\\Users\\\\Lenovo\\\\AppData\\\\Local\\\\Temp\\\\model-m4wq1v8r.lsi', 'separately': 'None', 'sep_limit': 10485760, 'ignore': ['projection', 'dispatcher'], 'datetime': '2023-12-09T21:34:36.622229', 'gensim': '4.3.2', 'python': '3.9.7 (default, Sep 16 2021, 16:59:28) [MSC v.1916 64 bit (AMD64)]', 'platform': 'Windows-10-10.0.22631-SP0', 'event': 'saving'}\n",
      "2023-12-09 21:34:36,622 : INFO : not storing attribute projection\n",
      "2023-12-09 21:34:36,623 : INFO : not storing attribute dispatcher\n",
      "2023-12-09 21:34:36,623 : INFO : saved C:\\Users\\Lenovo\\AppData\\Local\\Temp\\model-m4wq1v8r.lsi\n",
      "2023-12-09 21:34:36,624 : INFO : loading LsiModel object from C:\\Users\\Lenovo\\AppData\\Local\\Temp\\model-m4wq1v8r.lsi\n",
      "2023-12-09 21:34:36,624 : INFO : loading id2word recursively from C:\\Users\\Lenovo\\AppData\\Local\\Temp\\model-m4wq1v8r.lsi.id2word.* with mmap=None\n",
      "2023-12-09 21:34:36,625 : INFO : setting ignored attribute projection to None\n",
      "2023-12-09 21:34:36,625 : INFO : setting ignored attribute dispatcher to None\n",
      "2023-12-09 21:34:36,625 : INFO : LsiModel lifecycle event {'fname': 'C:\\\\Users\\\\Lenovo\\\\AppData\\\\Local\\\\Temp\\\\model-m4wq1v8r.lsi', 'datetime': '2023-12-09T21:34:36.625229', 'gensim': '4.3.2', 'python': '3.9.7 (default, Sep 16 2021, 16:59:28) [MSC v.1916 64 bit (AMD64)]', 'platform': 'Windows-10-10.0.22631-SP0', 'event': 'loaded'}\n",
      "2023-12-09 21:34:36,626 : INFO : loading LsiModel object from C:\\Users\\Lenovo\\AppData\\Local\\Temp\\model-m4wq1v8r.lsi.projection\n",
      "2023-12-09 21:34:36,626 : INFO : Projection lifecycle event {'fname': 'C:\\\\Users\\\\Lenovo\\\\AppData\\\\Local\\\\Temp\\\\model-m4wq1v8r.lsi.projection', 'datetime': '2023-12-09T21:34:36.626230', 'gensim': '4.3.2', 'python': '3.9.7 (default, Sep 16 2021, 16:59:28) [MSC v.1916 64 bit (AMD64)]', 'platform': 'Windows-10-10.0.22631-SP0', 'event': 'loaded'}\n"
     ]
    }
   ],
   "source": [
    "import os\n",
    "import tempfile\n",
    "\n",
    "with tempfile.NamedTemporaryFile(prefix='model-', suffix='.lsi', delete=False) as tmp:\n",
    "    lsi_model.save(tmp.name)  # same for tfidf, lda, ...\n",
    "\n",
    "loaded_lsi_model = models.LsiModel.load(tmp.name)\n",
    "\n",
    "os.unlink(tmp.name)"
   ]
  },
  {
   "cell_type": "code",
   "execution_count": null,
   "id": "e1dfd1c4",
   "metadata": {},
   "outputs": [],
   "source": []
  }
 ],
 "metadata": {
  "kernelspec": {
   "display_name": "Python 3 (ipykernel)",
   "language": "python",
   "name": "python3"
  },
  "language_info": {
   "codemirror_mode": {
    "name": "ipython",
    "version": 3
   },
   "file_extension": ".py",
   "mimetype": "text/x-python",
   "name": "python",
   "nbconvert_exporter": "python",
   "pygments_lexer": "ipython3",
   "version": "3.9.7"
  }
 },
 "nbformat": 4,
 "nbformat_minor": 5
}
